{
    "cells": [
        {
            "metadata": {},
            "cell_type": "markdown",
            "source": "# My Jupyter Notebook on IBM Watson Studio"
        },
        {
            "metadata": {},
            "cell_type": "markdown",
            "source": "## Sercan Kaynak\nMechanical Engineer / hope to be a Data Scientist"
        },
        {
            "metadata": {},
            "cell_type": "markdown",
            "source": "<i> I am interested in data science beacuse I like coding and finding patterns in big messes.I also like doing my job in some order and I like being organized."
        },
        {
            "metadata": {},
            "cell_type": "markdown",
            "source": "### In the program below, you can calculate your body mass index with some coding "
        },
        {
            "metadata": {},
            "cell_type": "code",
            "source": "print(\"\"\"\n*****************************\nBody Mass Index\n*****************************\n\"\"\")\n\nheight = float(input(\"Height : \"))\nweight = int(input(\"Weight : \"))\n\nbmi = weight / (height * height)\n\nprint(\"BMI : \",bmi)\n\nif (bmi < 18.5):\n    print(\"Underweight...\")\nelif (bmi >= 18.5 and bmi < 25):\n    print(\"Normal...\")\nelif (bmi >= 25 and bmi < 30):\n    print(\"Overweight...\")\nelse:\n    print(\"Obese...\")",
            "execution_count": 2,
            "outputs": [
                {
                    "output_type": "stream",
                    "text": "\n*****************************\nBody Mass Index\n*****************************\n\nHeight : 1.75\nWeight : 78\nBMI :  25.46938775510204\nOverweight...\n",
                    "name": "stdout"
                }
            ]
        },
        {
            "metadata": {},
            "cell_type": "markdown",
            "source": "* Pyhton\n* Java\n* PHP\n* R\n* Go"
        },
        {
            "metadata": {},
            "cell_type": "markdown",
            "source": "![image info](https://wallpapercave.com/wp/wp5201601.jpg)"
        },
        {
            "metadata": {},
            "cell_type": "markdown",
            "source": "<a>www.ibm.com</a>"
        }
    ],
    "metadata": {
        "kernelspec": {
            "name": "python3",
            "display_name": "Python 3.6",
            "language": "python"
        },
        "language_info": {
            "name": "python",
            "version": "3.6.9",
            "mimetype": "text/x-python",
            "codemirror_mode": {
                "name": "ipython",
                "version": 3
            },
            "pygments_lexer": "ipython3",
            "nbconvert_exporter": "python",
            "file_extension": ".py"
        }
    },
    "nbformat": 4,
    "nbformat_minor": 1
}